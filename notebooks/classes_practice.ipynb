{
  "nbformat": 4,
  "nbformat_minor": 0,
  "metadata": {
    "colab": {
      "name": "classes_practice.ipynb",
      "provenance": [],
      "collapsed_sections": [],
      "authorship_tag": "ABX9TyMmjxNevtKPbLtvI/nwRku0",
      "include_colab_link": true
    },
    "kernelspec": {
      "name": "python3",
      "display_name": "Python 3"
    },
    "language_info": {
      "name": "python"
    }
  },
  "cells": [
    {
      "cell_type": "markdown",
      "metadata": {
        "id": "view-in-github",
        "colab_type": "text"
      },
      "source": [
        "<a href=\"https://colab.research.google.com/github/Chris-Goyette/colab_practice/blob/main/classes_practice.ipynb\" target=\"_parent\"><img src=\"https://colab.research.google.com/assets/colab-badge.svg\" alt=\"Open In Colab\"/></a>"
      ]
    },
    {
      "cell_type": "markdown",
      "source": [
        "#How to save changes and push commit to Github\n",
        "- Click File and save to Github\n",
        "- Write a commit message. \n",
        "- Make sure to follow commit naming conventions if applicable."
      ],
      "metadata": {
        "id": "-7e_NoNKRUHs"
      }
    },
    {
      "cell_type": "code",
      "execution_count": null,
      "metadata": {
        "id": "Uz2Chgkb00o7"
      },
      "outputs": [],
      "source": [
        "class Virtual_Pet:\n",
        "  color = 'brown'\n",
        "\n",
        "  def bark(self):\n",
        "    print('bark')\n",
        "\n",
        "fluffy = Virtual_Pet()\n"
      ]
    },
    {
      "cell_type": "code",
      "source": [
        "fluffy.color"
      ],
      "metadata": {
        "colab": {
          "base_uri": "https://localhost:8080/",
          "height": 35
        },
        "id": "G4nOLCGZ1mfb",
        "outputId": "095633c6-9327-46ea-8793-400a86053044"
      },
      "execution_count": null,
      "outputs": [
        {
          "output_type": "execute_result",
          "data": {
            "text/plain": [
              "'brown'"
            ],
            "application/vnd.google.colaboratory.intrinsic+json": {
              "type": "string"
            }
          },
          "metadata": {},
          "execution_count": 12
        }
      ]
    },
    {
      "cell_type": "code",
      "source": [
        "class Virtual_Pet:\n",
        "  color = 'brown'\n",
        "  legs = 4\n",
        "  adopted = False\n",
        "\n",
        "  def bark(self):\n",
        "    print('bark')\n",
        "\n",
        "fluffy = Virtual_Pet()\n",
        "\n",
        "fluffy.color"
      ],
      "metadata": {
        "id": "UpqY2UUg2Z3g",
        "colab": {
          "base_uri": "https://localhost:8080/",
          "height": 35
        },
        "outputId": "ff9b7a43-699b-478a-dd64-baf1d9d6cb10"
      },
      "execution_count": null,
      "outputs": [
        {
          "output_type": "execute_result",
          "data": {
            "text/plain": [
              "'brown'"
            ],
            "application/vnd.google.colaboratory.intrinsic+json": {
              "type": "string"
            }
          },
          "metadata": {},
          "execution_count": 2
        }
      ]
    }
  ]
}
