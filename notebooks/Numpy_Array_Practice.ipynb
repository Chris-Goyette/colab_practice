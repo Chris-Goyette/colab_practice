{
  "nbformat": 4,
  "nbformat_minor": 0,
  "metadata": {
    "colab": {
      "name": "Numpy_Array_Practice.ipynb",
      "provenance": [],
      "collapsed_sections": [],
      "include_colab_link": true
    },
    "kernelspec": {
      "name": "python3",
      "display_name": "Python 3"
    }
  },
  "cells": [
    {
      "cell_type": "markdown",
      "metadata": {
        "id": "view-in-github",
        "colab_type": "text"
      },
      "source": [
        "<a href=\"https://colab.research.google.com/github/Chris-Goyette/colab_practice/blob/main/notebooks/Numpy_Array_Practice.ipynb\" target=\"_parent\"><img src=\"https://colab.research.google.com/assets/colab-badge.svg\" alt=\"Open In Colab\"/></a>"
      ]
    },
    {
      "cell_type": "code",
      "source": [
        "import sys\n",
        "import numpy as np"
      ],
      "metadata": {
        "id": "p9N9OtI5UOfv"
      },
      "execution_count": 1,
      "outputs": []
    },
    {
      "cell_type": "markdown",
      "source": [
        "##numpy arrays are mutable, but only when you assign it to new values\n",
        "### Otherwise the changes you made won't take effect. \n"
      ],
      "metadata": {
        "id": "iKMQOj5AxeN5"
      }
    },
    {
      "cell_type": "code",
      "source": [
        "a = np.arange(5)"
      ],
      "metadata": {
        "id": "3AnoI3FQqNxL"
      },
      "execution_count": 10,
      "outputs": []
    },
    {
      "cell_type": "code",
      "source": [
        "print(a)"
      ],
      "metadata": {
        "id": "5NCGhek0w-Qa",
        "outputId": "8db0aaec-1430-4238-8b77-4342b253adf7",
        "colab": {
          "base_uri": "https://localhost:8080/"
        }
      },
      "execution_count": 11,
      "outputs": [
        {
          "output_type": "stream",
          "name": "stdout",
          "text": [
            "[0 1 2 3 4]\n"
          ]
        }
      ]
    },
    {
      "cell_type": "code",
      "source": [
        "type(a)"
      ],
      "metadata": {
        "id": "W2akZclgx4SG",
        "outputId": "50e94abc-92c8-42c6-ffa1-d5b35ecdd475",
        "colab": {
          "base_uri": "https://localhost:8080/"
        }
      },
      "execution_count": 12,
      "outputs": [
        {
          "output_type": "execute_result",
          "data": {
            "text/plain": [
              "numpy.ndarray"
            ]
          },
          "metadata": {},
          "execution_count": 12
        }
      ]
    },
    {
      "cell_type": "code",
      "source": [
        "print(a+20)"
      ],
      "metadata": {
        "id": "3edgfkx1xGWO",
        "outputId": "791f6429-e07a-461a-ca15-5018ff1cd0cc",
        "colab": {
          "base_uri": "https://localhost:8080/"
        }
      },
      "execution_count": 13,
      "outputs": [
        {
          "output_type": "stream",
          "name": "stdout",
          "text": [
            "[20 21 22 23 24]\n"
          ]
        }
      ]
    },
    {
      "cell_type": "code",
      "source": [
        "print(a)\n"
      ],
      "metadata": {
        "id": "JZIJsB7KxJd6",
        "outputId": "6a26c57f-e6eb-4133-cdb4-8899dc9a96ab",
        "colab": {
          "base_uri": "https://localhost:8080/"
        }
      },
      "execution_count": 14,
      "outputs": [
        {
          "output_type": "stream",
          "name": "stdout",
          "text": [
            "[0 1 2 3 4]\n"
          ]
        }
      ]
    },
    {
      "cell_type": "markdown",
      "source": [
        "## The Basics"
      ],
      "metadata": {
        "id": "1rRBz3bWxVdk"
      }
    },
    {
      "cell_type": "code",
      "source": [
        "#Create a Numpy Array\n",
        "a = np.array([1,2,3])\n",
        "print(a)"
      ],
      "metadata": {
        "id": "u5QuyvBGdcil",
        "outputId": "7aa17793-cb2c-43b9-9d8b-4de8c371d52d",
        "colab": {
          "base_uri": "https://localhost:8080/"
        }
      },
      "execution_count": 16,
      "outputs": [
        {
          "output_type": "stream",
          "name": "stdout",
          "text": [
            "[1 2 3]\n"
          ]
        }
      ]
    },
    {
      "cell_type": "code",
      "source": [
        "print(type(a))"
      ],
      "metadata": {
        "id": "IZSHFbPcdk6B",
        "outputId": "d9a5343e-1666-4628-8a2f-315d9cdfe740",
        "colab": {
          "base_uri": "https://localhost:8080/"
        }
      },
      "execution_count": 33,
      "outputs": [
        {
          "output_type": "stream",
          "name": "stdout",
          "text": [
            "<class 'numpy.ndarray'>\n"
          ]
        }
      ]
    },
    {
      "cell_type": "code",
      "source": [
        "b = np.array([[1,2,3],[4,5,6]])\n",
        "print(b)"
      ],
      "metadata": {
        "id": "gN2T-iQhe2LV",
        "outputId": "9b7ce309-725c-4877-df2f-9594d25ca592",
        "colab": {
          "base_uri": "https://localhost:8080/"
        }
      },
      "execution_count": 25,
      "outputs": [
        {
          "output_type": "stream",
          "name": "stdout",
          "text": [
            "[[1 2 3]\n",
            " [4 5 6]]\n"
          ]
        }
      ]
    },
    {
      "cell_type": "code",
      "source": [
        "# Get Dimensions\n",
        "print(a.ndim)\n",
        "print(b.ndim)\n"
      ],
      "metadata": {
        "id": "oQEGB7L0fhhx",
        "outputId": "aab2768d-2103-40c9-fcd3-830b50ce94d3",
        "colab": {
          "base_uri": "https://localhost:8080/"
        }
      },
      "execution_count": 30,
      "outputs": [
        {
          "output_type": "stream",
          "name": "stdout",
          "text": [
            "1\n",
            "2\n"
          ]
        }
      ]
    },
    {
      "cell_type": "code",
      "source": [
        "# Get the shape\n",
        "# The shape property will return the number of rows by columns \n",
        "# The shape of a 1-dimensional array is a vector, which is why you don't see another number in the first example.  \n",
        "print(a.shape)\n",
        "print(b.shape)"
      ],
      "metadata": {
        "id": "CitJSILHgPIO",
        "outputId": "c23e911f-b7a7-4cea-e203-2e962864da74",
        "colab": {
          "base_uri": "https://localhost:8080/"
        }
      },
      "execution_count": 32,
      "outputs": [
        {
          "output_type": "stream",
          "name": "stdout",
          "text": [
            "(3,)\n",
            "(2, 3)\n"
          ]
        }
      ]
    },
    {
      "cell_type": "code",
      "source": [
        "# Get Type\n",
        "print(a.dtype)\n",
        "print(b.dtype)"
      ],
      "metadata": {
        "id": "TDwLPS2PgeWD",
        "outputId": "9a32ce0b-9f82-481b-a625-acb82db64b3e",
        "colab": {
          "base_uri": "https://localhost:8080/"
        }
      },
      "execution_count": 35,
      "outputs": [
        {
          "output_type": "stream",
          "name": "stdout",
          "text": [
            "int64\n",
            "int64\n"
          ]
        }
      ]
    },
    {
      "cell_type": "code",
      "source": [
        "# Get the length of one array element in bytes.\n",
        "print(a.itemsize)\n",
        "print(b.itemsize)"
      ],
      "metadata": {
        "id": "kbNq17Ncir55",
        "outputId": "dd2b2e6c-31d8-4464-c6dd-958fd5f27445",
        "colab": {
          "base_uri": "https://localhost:8080/"
        }
      },
      "execution_count": 37,
      "outputs": [
        {
          "output_type": "stream",
          "name": "stdout",
          "text": [
            "8\n",
            "8\n"
          ]
        }
      ]
    },
    {
      "cell_type": "code",
      "source": [
        "# Get total size of the array in bytes\n",
        "print(a.nbytes)\n",
        "print(b.nbytes)"
      ],
      "metadata": {
        "id": "7RHH9ZGrjKV4",
        "outputId": "af6ac8e8-bf76-4b30-f38e-0c497adbcf99",
        "colab": {
          "base_uri": "https://localhost:8080/"
        }
      },
      "execution_count": 40,
      "outputs": [
        {
          "output_type": "stream",
          "name": "stdout",
          "text": [
            "24\n",
            "48\n"
          ]
        }
      ]
    },
    {
      "cell_type": "code",
      "source": [
        "# Get the number of elements\n",
        "print(a.size)\n",
        "print(b.size)"
      ],
      "metadata": {
        "id": "q40NT2JXjyC8",
        "outputId": "5e2f989e-ea37-4788-dfef-8a19df99ce10",
        "colab": {
          "base_uri": "https://localhost:8080/"
        }
      },
      "execution_count": 41,
      "outputs": [
        {
          "output_type": "stream",
          "name": "stdout",
          "text": [
            "3\n",
            "6\n"
          ]
        }
      ]
    },
    {
      "cell_type": "markdown",
      "source": [
        "## Accessing / Changing specific elements, rows, columns, etc. "
      ],
      "metadata": {
        "id": "tXTjqMLnkSSJ"
      }
    },
    {
      "cell_type": "code",
      "source": [
        "a = np.array([[1,2,3,4,5,6,7],[8,9,10,11,12,13,14]])\n",
        "print(a)"
      ],
      "metadata": {
        "id": "lSgNPUTIkswN",
        "outputId": "7c963bda-8f4d-431a-c726-9272669d811b",
        "colab": {
          "base_uri": "https://localhost:8080/"
        }
      },
      "execution_count": 43,
      "outputs": [
        {
          "output_type": "stream",
          "name": "stdout",
          "text": [
            "[[ 1  2  3  4  5  6  7]\n",
            " [ 8  9 10 11 12 13 14]]\n"
          ]
        }
      ]
    },
    {
      "cell_type": "code",
      "source": [
        "# Get specific elements [row, column]\n",
        "# The syntax is arra[row, column :step]\n",
        "a[1,-3:]"
      ],
      "metadata": {
        "id": "31_CbF-akuz2",
        "outputId": "e82917d0-dabe-4b23-f15a-6eb85ce7e03b",
        "colab": {
          "base_uri": "https://localhost:8080/"
        }
      },
      "execution_count": 47,
      "outputs": [
        {
          "output_type": "execute_result",
          "data": {
            "text/plain": [
              "array([12, 13, 14])"
            ]
          },
          "metadata": {},
          "execution_count": 47
        }
      ]
    },
    {
      "cell_type": "code",
      "source": [
        "print(a[1, -3:])"
      ],
      "metadata": {
        "id": "H2Zmfe9LlBUB",
        "outputId": "f7b7b3e0-8d5b-47c4-d501-9d6fb289915b",
        "colab": {
          "base_uri": "https://localhost:8080/"
        }
      },
      "execution_count": 48,
      "outputs": [
        {
          "output_type": "stream",
          "name": "stdout",
          "text": [
            "[12 13 14]\n"
          ]
        }
      ]
    },
    {
      "cell_type": "code",
      "source": [
        "# Get a specific column \n",
        "print(a[:, 2])"
      ],
      "metadata": {
        "id": "_ymk8Y3hlVHS",
        "outputId": "4f8ee251-d7a7-42b5-e35f-7f254bd70db0",
        "colab": {
          "base_uri": "https://localhost:8080/"
        }
      },
      "execution_count": 49,
      "outputs": [
        {
          "output_type": "stream",
          "name": "stdout",
          "text": [
            "[ 3 10]\n"
          ]
        }
      ]
    },
    {
      "cell_type": "code",
      "source": [
        "# Getting fancy with step\n",
        "# I am returning rows 0 and 1, column 2 through the end, stepping by 2\n",
        "print(a[:, 2: :2])"
      ],
      "metadata": {
        "id": "mQ__o2bPl0mH",
        "outputId": "d62d2947-71e5-42a2-9ff2-ce8f08fa2fcc",
        "colab": {
          "base_uri": "https://localhost:8080/"
        }
      },
      "execution_count": 51,
      "outputs": [
        {
          "output_type": "stream",
          "name": "stdout",
          "text": [
            "[[ 3  5  7]\n",
            " [10 12 14]]\n"
          ]
        }
      ]
    },
    {
      "cell_type": "markdown",
      "source": [
        "## 3 Dimensional Array"
      ],
      "metadata": {
        "id": "pNM2v_nvmuBH"
      }
    },
    {
      "cell_type": "code",
      "source": [
        "three_dimensions = np.array([[[1,2],[3,4]],[[5,6],[7,8]]])\n",
        "print(three_dimensions)"
      ],
      "metadata": {
        "id": "Q-3rUKZWnNMA",
        "outputId": "20c23a4c-8489-487c-b5da-bf748c93c161",
        "colab": {
          "base_uri": "https://localhost:8080/"
        }
      },
      "execution_count": 60,
      "outputs": [
        {
          "output_type": "stream",
          "name": "stdout",
          "text": [
            "[[[1 2]\n",
            "  [3 4]]\n",
            "\n",
            " [[5 6]\n",
            "  [7 8]]]\n"
          ]
        }
      ]
    },
    {
      "cell_type": "code",
      "source": [
        "# Get specific element (work outside in)\n",
        "print(three_dimensions[0, 1, 1])"
      ],
      "metadata": {
        "id": "RTR_13NInaws",
        "outputId": "ea89c67e-7d4a-4f69-e21b-54fd2d74de9f",
        "colab": {
          "base_uri": "https://localhost:8080/"
        }
      },
      "execution_count": 62,
      "outputs": [
        {
          "output_type": "stream",
          "name": "stdout",
          "text": [
            "4\n"
          ]
        }
      ]
    },
    {
      "cell_type": "code",
      "source": [
        "# Replace the following values in the three dimensional array: \n",
        "three_dimensions[:,1,:]"
      ],
      "metadata": {
        "id": "LFOl9zKPrSbi",
        "outputId": "89eab79d-b210-44d0-a7fe-ae660d54a837",
        "colab": {
          "base_uri": "https://localhost:8080/"
        }
      },
      "execution_count": 64,
      "outputs": [
        {
          "output_type": "execute_result",
          "data": {
            "text/plain": [
              "array([[3, 4],\n",
              "       [7, 8]])"
            ]
          },
          "metadata": {},
          "execution_count": 64
        }
      ]
    },
    {
      "cell_type": "code",
      "source": [
        "# With this: \n",
        "new_data = np.array([[1,2],[3,4]])\n",
        "new_data"
      ],
      "metadata": {
        "id": "_2zHksHsr0EC",
        "outputId": "d7a6fd7b-a247-435f-fe6b-facc94e9ee95",
        "colab": {
          "base_uri": "https://localhost:8080/"
        }
      },
      "execution_count": 66,
      "outputs": [
        {
          "output_type": "execute_result",
          "data": {
            "text/plain": [
              "array([[1, 2],\n",
              "       [3, 4]])"
            ]
          },
          "metadata": {},
          "execution_count": 66
        }
      ]
    },
    {
      "cell_type": "code",
      "source": [
        "three_dimensions[:,1,:] = new_data\n",
        "three_dimensions"
      ],
      "metadata": {
        "id": "ZBASosIPsfeC",
        "outputId": "e9483136-5a4c-4f6d-9f1f-6f7b96c8dbd4",
        "colab": {
          "base_uri": "https://localhost:8080/"
        }
      },
      "execution_count": 67,
      "outputs": [
        {
          "output_type": "execute_result",
          "data": {
            "text/plain": [
              "array([[[1, 2],\n",
              "        [1, 2]],\n",
              "\n",
              "       [[5, 6],\n",
              "        [3, 4]]])"
            ]
          },
          "metadata": {},
          "execution_count": 67
        }
      ]
    },
    {
      "cell_type": "markdown",
      "source": [
        "## Examples of some cool things you can do\n",
        "- You can havd a 2 dimensional array with the dimensions of 7 by 7 and and prefill the values with zeros, ones, or random digits. \n",
        "- You can also select a portion of that 2 dimensional array and update it. "
      ],
      "metadata": {
        "id": "tAQngFdV2J4p"
      }
    },
    {
      "cell_type": "code",
      "source": [
        "\n",
        "seven_by_seven = np.zeros((7,7))\n",
        "five_by_five = np.ones((5,5))\n",
        "print(seven_by_seven)\n",
        "print(five_by_five)"
      ],
      "metadata": {
        "id": "zS99aPqiso0s",
        "outputId": "5a9d32fd-c05d-49f6-de95-3d13b4ee1695",
        "colab": {
          "base_uri": "https://localhost:8080/"
        }
      },
      "execution_count": 5,
      "outputs": [
        {
          "output_type": "stream",
          "name": "stdout",
          "text": [
            "[[0. 0. 0. 0. 0. 0. 0.]\n",
            " [0. 0. 0. 0. 0. 0. 0.]\n",
            " [0. 0. 0. 0. 0. 0. 0.]\n",
            " [0. 0. 0. 0. 0. 0. 0.]\n",
            " [0. 0. 0. 0. 0. 0. 0.]\n",
            " [0. 0. 0. 0. 0. 0. 0.]\n",
            " [0. 0. 0. 0. 0. 0. 0.]]\n",
            "[[1. 1. 1. 1. 1.]\n",
            " [1. 1. 1. 1. 1.]\n",
            " [1. 1. 1. 1. 1.]\n",
            " [1. 1. 1. 1. 1.]\n",
            " [1. 1. 1. 1. 1.]]\n"
          ]
        }
      ]
    },
    {
      "cell_type": "code",
      "source": [
        "seven_by_seven[1:6,1:6] = five_by_five\n",
        "print(seven_by_seven)"
      ],
      "metadata": {
        "id": "8g4fALe2SaOM",
        "outputId": "738cd66d-e785-40a9-aebd-a6c03a83b020",
        "colab": {
          "base_uri": "https://localhost:8080/"
        }
      },
      "execution_count": 6,
      "outputs": [
        {
          "output_type": "stream",
          "name": "stdout",
          "text": [
            "[[0. 0. 0. 0. 0. 0. 0.]\n",
            " [0. 1. 1. 1. 1. 1. 0.]\n",
            " [0. 1. 1. 1. 1. 1. 0.]\n",
            " [0. 1. 1. 1. 1. 1. 0.]\n",
            " [0. 1. 1. 1. 1. 1. 0.]\n",
            " [0. 1. 1. 1. 1. 1. 0.]\n",
            " [0. 0. 0. 0. 0. 0. 0.]]\n"
          ]
        }
      ]
    },
    {
      "cell_type": "markdown",
      "source": [
        "## You can perform element wise arithmetic\n",
        "- This basically means you can do math to each element in an array"
      ],
      "metadata": {
        "id": "OLtud2fIT51D"
      }
    },
    {
      "cell_type": "code",
      "source": [
        "# Add two arrays together, element wise\n",
        "group_1 = np.array([1,1,1,1])\n",
        "group_2 = np.array([2,2,2,2])\n",
        "\n",
        "print(group_1 + group_2)\n",
        "\n",
        "# Other basic math \n",
        "print(group_1 + 5)\n",
        "print(group_1 * 10)\n",
        "print(np.cos(group_1))"
      ],
      "metadata": {
        "id": "dGZk1Y6-9yp2",
        "outputId": "101a1a5d-79e5-4578-9f64-2667f630818a",
        "colab": {
          "base_uri": "https://localhost:8080/"
        }
      },
      "execution_count": 13,
      "outputs": [
        {
          "output_type": "stream",
          "name": "stdout",
          "text": [
            "[3 3 3 3]\n",
            "[6 6 6 6]\n",
            "[10 10 10 10]\n",
            "[0.54030231 0.54030231 0.54030231 0.54030231]\n"
          ]
        }
      ]
    },
    {
      "cell_type": "markdown",
      "source": [
        "## Linear Algebra\n"
      ],
      "metadata": {
        "id": "15SkVjPm9Fq3"
      }
    },
    {
      "cell_type": "code",
      "source": [
        "# Matrix Multiplication\n",
        "\n",
        "data_1 = np.ones((2,3))\n",
        "data_2 = np.full((3,2), 2)\n",
        "\n",
        "print('First data set:')\n",
        "print(data_1)\n",
        "print('Second data set:')\n",
        "print(data_2)\n",
        "print('Matrices multiplied together:')\n",
        "print(np.matmul(data_1, data_2))"
      ],
      "metadata": {
        "id": "_tQDThLK-2YX",
        "outputId": "ab80d565-7355-475f-df35-fcfe306aa32d",
        "colab": {
          "base_uri": "https://localhost:8080/"
        }
      },
      "execution_count": 21,
      "outputs": [
        {
          "output_type": "stream",
          "name": "stdout",
          "text": [
            "First data set:\n",
            "[[1. 1. 1.]\n",
            " [1. 1. 1.]]\n",
            "Second data set:\n",
            "[[2 2]\n",
            " [2 2]\n",
            " [2 2]]\n",
            "Matrices multiplied together:\n",
            "[[6. 6.]\n",
            " [6. 6.]]\n"
          ]
        }
      ]
    },
    {
      "cell_type": "code",
      "source": [
        ""
      ],
      "metadata": {
        "id": "e1oN1gj3AR1m"
      },
      "execution_count": null,
      "outputs": []
    },
    {
      "cell_type": "markdown",
      "source": [
        "## Statistics"
      ],
      "metadata": {
        "id": "JBDBLtQyCISI"
      }
    },
    {
      "cell_type": "code",
      "source": [
        "#min, max, mean, etc. \n",
        "\n",
        "stats = np.array([[1,2,3],[4,5,6]])\n",
        "stats"
      ],
      "metadata": {
        "id": "VDlr3cjhCJ23",
        "outputId": "a15e334e-ec27-43c1-8414-2c6b28bda6a2",
        "colab": {
          "base_uri": "https://localhost:8080/"
        }
      },
      "execution_count": 26,
      "outputs": [
        {
          "output_type": "execute_result",
          "data": {
            "text/plain": [
              "array([[1, 2, 3],\n",
              "       [4, 5, 6]])"
            ]
          },
          "metadata": {},
          "execution_count": 26
        }
      ]
    },
    {
      "cell_type": "code",
      "source": [
        "print(stats.min())\n",
        "print(stats.max())\n",
        "print(stats.mean())\n"
      ],
      "metadata": {
        "id": "jq_54MXOCt46",
        "outputId": "caab4880-d531-4e69-f583-0aeeaa2013b2",
        "colab": {
          "base_uri": "https://localhost:8080/"
        }
      },
      "execution_count": 33,
      "outputs": [
        {
          "output_type": "stream",
          "name": "stdout",
          "text": [
            "1\n",
            "6\n",
            "3.5\n"
          ]
        }
      ]
    },
    {
      "cell_type": "code",
      "source": [
        "print(np.min(stats))\n",
        "print(np.max(stats))\n",
        "print(np.mean(stats))"
      ],
      "metadata": {
        "id": "SN9Nh9cwC5KL",
        "outputId": "99f2cf05-09c7-42ee-84b6-edfe49441dea",
        "colab": {
          "base_uri": "https://localhost:8080/"
        }
      },
      "execution_count": 35,
      "outputs": [
        {
          "output_type": "stream",
          "name": "stdout",
          "text": [
            "1\n",
            "6\n",
            "3.5\n"
          ]
        }
      ]
    },
    {
      "cell_type": "code",
      "source": [
        "# You can also specify the axis so that you can narrow where you want to perform these functions\n",
        "print(stats)"
      ],
      "metadata": {
        "id": "ZzGOl9ZgD0KP",
        "outputId": "fed35982-11ce-4b57-f78e-14e5f19134e4",
        "colab": {
          "base_uri": "https://localhost:8080/"
        }
      },
      "execution_count": 38,
      "outputs": [
        {
          "output_type": "stream",
          "name": "stdout",
          "text": [
            "[[1 2 3]\n",
            " [4 5 6]]\n"
          ]
        }
      ]
    },
    {
      "cell_type": "code",
      "source": [
        "# axis=0 means numpy will perform computations vertically \n",
        "np.max(stats, axis=0)"
      ],
      "metadata": {
        "id": "pzWmJGncEYzx",
        "outputId": "c260986a-3f3b-40c4-e785-20e146b8902d",
        "colab": {
          "base_uri": "https://localhost:8080/"
        }
      },
      "execution_count": 41,
      "outputs": [
        {
          "output_type": "execute_result",
          "data": {
            "text/plain": [
              "array([4, 5, 6])"
            ]
          },
          "metadata": {},
          "execution_count": 41
        }
      ]
    },
    {
      "cell_type": "code",
      "source": [
        "# axis=1 means numpy will perform computations horizontally. \n",
        "\n",
        "np.max(stats, axis=1)"
      ],
      "metadata": {
        "id": "JUYpX-4EEiAI",
        "outputId": "1853362c-4754-4c27-d78e-04bf55d00673",
        "colab": {
          "base_uri": "https://localhost:8080/"
        }
      },
      "execution_count": 42,
      "outputs": [
        {
          "output_type": "execute_result",
          "data": {
            "text/plain": [
              "array([3, 6])"
            ]
          },
          "metadata": {},
          "execution_count": 42
        }
      ]
    },
    {
      "cell_type": "code",
      "source": [
        "np.sum(stats, axis=0)"
      ],
      "metadata": {
        "id": "scSZhy-9EnDR",
        "outputId": "bf09784a-ca0f-47ef-af3f-4cf0d8073388",
        "colab": {
          "base_uri": "https://localhost:8080/"
        }
      },
      "execution_count": 43,
      "outputs": [
        {
          "output_type": "execute_result",
          "data": {
            "text/plain": [
              "array([5, 7, 9])"
            ]
          },
          "metadata": {},
          "execution_count": 43
        }
      ]
    },
    {
      "cell_type": "code",
      "source": [
        "np.sum(stats, axis=1)"
      ],
      "metadata": {
        "id": "ayjPGyoVFBDo",
        "outputId": "ea1f43c3-121e-46e7-9afa-93e581274388",
        "colab": {
          "base_uri": "https://localhost:8080/"
        }
      },
      "execution_count": 44,
      "outputs": [
        {
          "output_type": "execute_result",
          "data": {
            "text/plain": [
              "array([ 6, 15])"
            ]
          },
          "metadata": {},
          "execution_count": 44
        }
      ]
    },
    {
      "cell_type": "code",
      "source": [
        ""
      ],
      "metadata": {
        "id": "z5VA2juGVnsI"
      },
      "execution_count": null,
      "outputs": []
    }
  ]
}